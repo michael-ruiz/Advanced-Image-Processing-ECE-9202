{
 "cells": [
  {
   "cell_type": "code",
   "execution_count": 36,
   "metadata": {},
   "outputs": [],
   "source": [
    "import numpy as np\n",
    "import matplotlib.pyplot as plt\n",
    "import tensorflow as tf\n",
    "from tensorflow import keras\n",
    "from tensorflow.keras import layers\n",
    "from keras.utils import to_categorical"
   ]
  },
  {
   "cell_type": "markdown",
   "metadata": {},
   "source": [
    "# Task 2"
   ]
  },
  {
   "cell_type": "code",
   "execution_count": 37,
   "metadata": {},
   "outputs": [],
   "source": [
    "# Load the Fashion MNIST dataset\n",
    "(train_images, train_labels), (test_images, test_labels) = keras.datasets.fashion_mnist.load_data()\n",
    "    \n",
    "# Normalize pixel values to range [0,1] and flatten images\n",
    "train_images = train_images.reshape(-1, 28*28).astype('float32') / 255.0\n",
    "test_images = test_images.reshape(-1, 28*28).astype('float32') / 255.0\n",
    "\n",
    "train_labels = to_categorical(train_labels)\n",
    "test_labels = to_categorical(test_labels)"
   ]
  },
  {
   "cell_type": "code",
   "execution_count": 38,
   "metadata": {},
   "outputs": [],
   "source": [
    "# Define the model architecture and compile\n",
    "def build_model(input_size, hidden_sizes, output_size, loss, optimizer):\n",
    "    model = keras.Sequential([\n",
    "            layers.Dense(hidden_sizes[0], activation='relu', input_shape=(input_size,)),\n",
    "            layers.Dense(hidden_sizes[1], activation='relu'),\n",
    "            layers.Dense(output_size, activation='softmax')  # Softmax for classification\n",
    "        ])\n",
    "\n",
    "    model.compile(optimizer=optimizer,\n",
    "                    loss=loss,\n",
    "                    metrics=['accuracy'])\n",
    "    \n",
    "    return model"
   ]
  },
  {
   "cell_type": "markdown",
   "metadata": {},
   "source": [
    "### Model 1"
   ]
  },
  {
   "cell_type": "code",
   "execution_count": 39,
   "metadata": {},
   "outputs": [],
   "source": [
    "# Define hyperparameters\n",
    "input_size = 28 * 28 # 784 pixels per image\n",
    "output_size = 10 # 10 classes in FashionMNIST\n",
    "hidden_sizes = [128, 64]\n",
    "\n",
    "\n",
    "# Define model 1 hyperparameters\n",
    "lr_1 = 0.001\n",
    "loss_1 = 'huber'\n",
    "optimizer_1 = keras.optimizers.Adam(learning_rate=lr_1)\n",
    "batch_size_1 = 16"
   ]
  },
  {
   "cell_type": "code",
   "execution_count": 40,
   "metadata": {},
   "outputs": [
    {
     "name": "stdout",
     "output_type": "stream",
     "text": [
      "Epoch 1/10\n",
      "\u001b[1m3000/3000\u001b[0m \u001b[32m━━━━━━━━━━━━━━━━━━━━\u001b[0m\u001b[37m\u001b[0m \u001b[1m5s\u001b[0m 1ms/step - accuracy: 0.7645 - loss: 0.0164 - val_accuracy: 0.8345 - val_loss: 0.0114\n",
      "Epoch 2/10\n",
      "\u001b[1m3000/3000\u001b[0m \u001b[32m━━━━━━━━━━━━━━━━━━━━\u001b[0m\u001b[37m\u001b[0m \u001b[1m4s\u001b[0m 1ms/step - accuracy: 0.8575 - loss: 0.0103 - val_accuracy: 0.8609 - val_loss: 0.0101\n",
      "Epoch 3/10\n",
      "\u001b[1m3000/3000\u001b[0m \u001b[32m━━━━━━━━━━━━━━━━━━━━\u001b[0m\u001b[37m\u001b[0m \u001b[1m4s\u001b[0m 1ms/step - accuracy: 0.8714 - loss: 0.0093 - val_accuracy: 0.8664 - val_loss: 0.0098\n",
      "Epoch 4/10\n",
      "\u001b[1m3000/3000\u001b[0m \u001b[32m━━━━━━━━━━━━━━━━━━━━\u001b[0m\u001b[37m\u001b[0m \u001b[1m4s\u001b[0m 1ms/step - accuracy: 0.8811 - loss: 0.0086 - val_accuracy: 0.8712 - val_loss: 0.0092\n",
      "Epoch 5/10\n",
      "\u001b[1m3000/3000\u001b[0m \u001b[32m━━━━━━━━━━━━━━━━━━━━\u001b[0m\u001b[37m\u001b[0m \u001b[1m4s\u001b[0m 1ms/step - accuracy: 0.8871 - loss: 0.0083 - val_accuracy: 0.8697 - val_loss: 0.0095\n",
      "Epoch 6/10\n",
      "\u001b[1m3000/3000\u001b[0m \u001b[32m━━━━━━━━━━━━━━━━━━━━\u001b[0m\u001b[37m\u001b[0m \u001b[1m4s\u001b[0m 1ms/step - accuracy: 0.8914 - loss: 0.0079 - val_accuracy: 0.8640 - val_loss: 0.0103\n",
      "Epoch 7/10\n",
      "\u001b[1m3000/3000\u001b[0m \u001b[32m━━━━━━━━━━━━━━━━━━━━\u001b[0m\u001b[37m\u001b[0m \u001b[1m4s\u001b[0m 1ms/step - accuracy: 0.8933 - loss: 0.0078 - val_accuracy: 0.8802 - val_loss: 0.0087\n",
      "Epoch 8/10\n",
      "\u001b[1m3000/3000\u001b[0m \u001b[32m━━━━━━━━━━━━━━━━━━━━\u001b[0m\u001b[37m\u001b[0m \u001b[1m4s\u001b[0m 1ms/step - accuracy: 0.8996 - loss: 0.0075 - val_accuracy: 0.8795 - val_loss: 0.0088\n",
      "Epoch 9/10\n",
      "\u001b[1m3000/3000\u001b[0m \u001b[32m━━━━━━━━━━━━━━━━━━━━\u001b[0m\u001b[37m\u001b[0m \u001b[1m4s\u001b[0m 1ms/step - accuracy: 0.8998 - loss: 0.0072 - val_accuracy: 0.8801 - val_loss: 0.0087\n",
      "Epoch 10/10\n",
      "\u001b[1m3000/3000\u001b[0m \u001b[32m━━━━━━━━━━━━━━━━━━━━\u001b[0m\u001b[37m\u001b[0m \u001b[1m4s\u001b[0m 1ms/step - accuracy: 0.9035 - loss: 0.0070 - val_accuracy: 0.8708 - val_loss: 0.0096\n"
     ]
    },
    {
     "data": {
      "text/plain": [
       "<keras.src.callbacks.history.History at 0x1ecd9d7a090>"
      ]
     },
     "execution_count": 40,
     "metadata": {},
     "output_type": "execute_result"
    }
   ],
   "source": [
    "# Build the model 1\n",
    "model_1 = build_model(input_size, hidden_sizes, output_size, loss_1, optimizer_1)\n",
    "\n",
    "# Train the model 1\n",
    "model_1.fit(train_images, train_labels, epochs=10, batch_size=batch_size_1, validation_split=0.2)"
   ]
  },
  {
   "cell_type": "code",
   "execution_count": 41,
   "metadata": {},
   "outputs": [
    {
     "name": "stdout",
     "output_type": "stream",
     "text": [
      "\u001b[1m313/313\u001b[0m \u001b[32m━━━━━━━━━━━━━━━━━━━━\u001b[0m\u001b[37m\u001b[0m \u001b[1m0s\u001b[0m 839us/step - accuracy: 0.8655 - loss: 0.0099\n",
      "Test Accuracy: 86.53%\n"
     ]
    }
   ],
   "source": [
    "# Evaluate the model 1\n",
    "test_loss, test_acc = model_1.evaluate(test_images, test_labels)\n",
    "\n",
    "print(f'Test Accuracy: {test_acc * 100:.2f}%')"
   ]
  },
  {
   "cell_type": "markdown",
   "metadata": {},
   "source": [
    "### Model 2"
   ]
  },
  {
   "cell_type": "code",
   "execution_count": 42,
   "metadata": {},
   "outputs": [],
   "source": [
    "# Define model 2 hyperparameters\n",
    "lr_2 = 0.01\n",
    "loss_2 = 'mean_squared_error'\n",
    "optimizer_2 = keras.optimizers.SGD(learning_rate=lr_2)\n",
    "batch_size_2 = 8"
   ]
  },
  {
   "cell_type": "code",
   "execution_count": 43,
   "metadata": {},
   "outputs": [
    {
     "name": "stdout",
     "output_type": "stream",
     "text": [
      "Epoch 1/10\n",
      "\u001b[1m6000/6000\u001b[0m \u001b[32m━━━━━━━━━━━━━━━━━━━━\u001b[0m\u001b[37m\u001b[0m \u001b[1m6s\u001b[0m 1ms/step - accuracy: 0.3918 - loss: 0.0780 - val_accuracy: 0.6963 - val_loss: 0.0450\n",
      "Epoch 2/10\n",
      "\u001b[1m6000/6000\u001b[0m \u001b[32m━━━━━━━━━━━━━━━━━━━━\u001b[0m\u001b[37m\u001b[0m \u001b[1m6s\u001b[0m 972us/step - accuracy: 0.7119 - loss: 0.0423 - val_accuracy: 0.7687 - val_loss: 0.0355\n",
      "Epoch 3/10\n",
      "\u001b[1m6000/6000\u001b[0m \u001b[32m━━━━━━━━━━━━━━━━━━━━\u001b[0m\u001b[37m\u001b[0m \u001b[1m6s\u001b[0m 944us/step - accuracy: 0.7776 - loss: 0.0345 - val_accuracy: 0.7971 - val_loss: 0.0312\n",
      "Epoch 4/10\n",
      "\u001b[1m6000/6000\u001b[0m \u001b[32m━━━━━━━━━━━━━━━━━━━━\u001b[0m\u001b[37m\u001b[0m \u001b[1m6s\u001b[0m 944us/step - accuracy: 0.8013 - loss: 0.0304 - val_accuracy: 0.8072 - val_loss: 0.0288\n",
      "Epoch 5/10\n",
      "\u001b[1m6000/6000\u001b[0m \u001b[32m━━━━━━━━━━━━━━━━━━━━\u001b[0m\u001b[37m\u001b[0m \u001b[1m6s\u001b[0m 954us/step - accuracy: 0.8125 - loss: 0.0284 - val_accuracy: 0.8173 - val_loss: 0.0273\n",
      "Epoch 6/10\n",
      "\u001b[1m6000/6000\u001b[0m \u001b[32m━━━━━━━━━━━━━━━━━━━━\u001b[0m\u001b[37m\u001b[0m \u001b[1m6s\u001b[0m 943us/step - accuracy: 0.8205 - loss: 0.0268 - val_accuracy: 0.8237 - val_loss: 0.0262\n",
      "Epoch 7/10\n",
      "\u001b[1m6000/6000\u001b[0m \u001b[32m━━━━━━━━━━━━━━━━━━━━\u001b[0m\u001b[37m\u001b[0m \u001b[1m6s\u001b[0m 969us/step - accuracy: 0.8292 - loss: 0.0256 - val_accuracy: 0.8274 - val_loss: 0.0254\n",
      "Epoch 8/10\n",
      "\u001b[1m6000/6000\u001b[0m \u001b[32m━━━━━━━━━━━━━━━━━━━━\u001b[0m\u001b[37m\u001b[0m \u001b[1m6s\u001b[0m 940us/step - accuracy: 0.8319 - loss: 0.0250 - val_accuracy: 0.8338 - val_loss: 0.0248\n",
      "Epoch 9/10\n",
      "\u001b[1m6000/6000\u001b[0m \u001b[32m━━━━━━━━━━━━━━━━━━━━\u001b[0m\u001b[37m\u001b[0m \u001b[1m6s\u001b[0m 942us/step - accuracy: 0.8382 - loss: 0.0241 - val_accuracy: 0.8350 - val_loss: 0.0245\n",
      "Epoch 10/10\n",
      "\u001b[1m6000/6000\u001b[0m \u001b[32m━━━━━━━━━━━━━━━━━━━━\u001b[0m\u001b[37m\u001b[0m \u001b[1m6s\u001b[0m 945us/step - accuracy: 0.8376 - loss: 0.0240 - val_accuracy: 0.8375 - val_loss: 0.0240\n"
     ]
    },
    {
     "data": {
      "text/plain": [
       "<keras.src.callbacks.history.History at 0x1ece9bef7d0>"
      ]
     },
     "execution_count": 43,
     "metadata": {},
     "output_type": "execute_result"
    }
   ],
   "source": [
    "# Build the model 2\n",
    "model_2 = build_model(input_size, hidden_sizes, output_size, loss_2, optimizer_2)\n",
    "\n",
    "# Train the model 2\n",
    "model_2.fit(train_images, train_labels, epochs=10, batch_size=batch_size_2, validation_split=0.2)"
   ]
  },
  {
   "cell_type": "code",
   "execution_count": 44,
   "metadata": {},
   "outputs": [
    {
     "name": "stdout",
     "output_type": "stream",
     "text": [
      "\u001b[1m313/313\u001b[0m \u001b[32m━━━━━━━━━━━━━━━━━━━━\u001b[0m\u001b[37m\u001b[0m \u001b[1m0s\u001b[0m 804us/step - accuracy: 0.8368 - loss: 0.0244\n",
      "Test Accuracy: 82.86%\n"
     ]
    }
   ],
   "source": [
    "# Evaluate the model 2\n",
    "test_loss, test_acc = model_2.evaluate(test_images, test_labels)\n",
    "\n",
    "print(f'Test Accuracy: {test_acc * 100:.2f}%')"
   ]
  }
 ],
 "metadata": {
  "kernelspec": {
   "display_name": ".venv",
   "language": "python",
   "name": "python3"
  },
  "language_info": {
   "codemirror_mode": {
    "name": "ipython",
    "version": 3
   },
   "file_extension": ".py",
   "mimetype": "text/x-python",
   "name": "python",
   "nbconvert_exporter": "python",
   "pygments_lexer": "ipython3",
   "version": "3.11.5"
  }
 },
 "nbformat": 4,
 "nbformat_minor": 2
}
